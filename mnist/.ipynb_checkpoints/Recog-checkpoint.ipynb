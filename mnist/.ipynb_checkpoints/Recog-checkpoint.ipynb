{
 "cells": [
  {
   "cell_type": "code",
   "execution_count": 278,
   "metadata": {},
   "outputs": [],
   "source": [
    "import torch\n",
    "from torch.utils.data import Dataset, DataLoader, random_split\n",
    "import torchvision.transforms as transforms\n",
    "import pandas as pd\n",
    "import torch.nn as nn\n",
    "from PIL import Image\n",
    "import numpy as np\n",
    "from torch.utils.data.sampler import SubsetRandomSampler"
   ]
  },
  {
   "cell_type": "markdown",
   "metadata": {},
   "source": [
    "# 1: Data preprocessing\n",
    "\n",
    "-Read csv files into panda dataframes, create custom pytorch training + validation datasets to load into dataloaders"
   ]
  },
  {
   "cell_type": "code",
   "execution_count": 274,
   "metadata": {},
   "outputs": [],
   "source": [
    "#Write custom pytorch map-style dataset by implementing __len__() and __getitem__() methods\n",
    "#Assume csv files are in same directory as notebook for simplicity sake\n",
    "class ds(Dataset):\n",
    "    def __init__(self,csv_file,transform):\n",
    "        self.train_df = pd.read_csv(csv_file)\n",
    "        self.transform = transform\n",
    "        self.image_arr = np.asarray(self.train_df.iloc[:, 1:])\n",
    "        self.label_arr = np.asarray(self.train_df.iloc[:,0])\n",
    "        self.train_df_len = len(self.train_df)\n",
    "    def __len__(self):\n",
    "        return self.train_df_len\n",
    "    def __getitem__(self, index):\n",
    "        label = self.label_arr[index]\n",
    "        img = self.image_arr[index]\n",
    "        img_as_np = np.asarray(img).reshape(28, 28).astype('uint8')\n",
    "        img_as_img = Image.fromarray(img_as_np)\n",
    "        img_as_img = img_as_img.convert('L')\n",
    "        if self.transform is not None:\n",
    "            img_as_tensor = self.transform(img_as_img)\n",
    "        # Return image and the label\n",
    "        return (img_as_tensor, label)\n"
   ]
  },
  {
   "cell_type": "code",
   "execution_count": 283,
   "metadata": {},
   "outputs": [],
   "source": [
    "transform = transforms.Compose([\n",
    "    transforms.ToTensor()\n",
    "])"
   ]
  },
  {
   "cell_type": "markdown",
   "metadata": {},
   "source": [
    "Validation set is incredibly important for kaggle competitions, as it seems the testing dataset we are given contains no labels!"
   ]
  },
  {
   "cell_type": "code",
   "execution_count": 284,
   "metadata": {},
   "outputs": [],
   "source": [
    "dataset = ds('train.csv',transform=transform)\n",
    "batch_size = 16\n",
    "validation_split = .2\n",
    "shuffle_dataset = True\n",
    "random_seed= 42\n",
    "# Creating data indices for training and validation splits:\n",
    "dataset_size = len(dataset)\n",
    "indices = list(range(dataset_size))\n",
    "split = int(np.floor(validation_split * dataset_size))\n",
    "if shuffle_dataset :\n",
    "    np.random.seed(random_seed)\n",
    "    np.random.shuffle(indices)\n",
    "train_indices, val_indices = indices[split:], indices[:split]\n",
    "# Creating PT data samplers and loaders:\n",
    "train_sampler = SubsetRandomSampler(train_indices)\n",
    "valid_sampler = SubsetRandomSampler(val_indices)\n",
    "\n",
    "train_loader = torch.utils.data.DataLoader(dataset, batch_size=batch_size, \n",
    "                                           sampler=train_sampler)\n",
    "validation_loader = torch.utils.data.DataLoader(dataset, batch_size=batch_size,\n",
    "                                                sampler=valid_sampler)"
   ]
  },
  {
   "cell_type": "markdown",
   "metadata": {},
   "source": [
    "# 2. Define Model"
   ]
  },
  {
   "cell_type": "code",
   "execution_count": 225,
   "metadata": {},
   "outputs": [],
   "source": [
    "class myCNN(nn.Module):\n",
    "    def __init__(self):\n",
    "        super(myCNN,self).__init__()\n",
    "        self.cnn1 = nn.Conv2d(1,3,3)\n",
    "        self.cnn2 = nn.Conv2d(3,2,5)\n",
    "        self.relu = nn.ReLU()\n",
    "        self.linear1 = nn.Linear(968,10)\n",
    "        \n",
    "    def forward(self,x):\n",
    "        n = x.size(0)\n",
    "        x = self.relu(self.cnn1(x))\n",
    "        x = self.relu(self.cnn2(x))\n",
    "        x = x.view(n,-1) \n",
    "        x = self.linear1(x)\n",
    "        return x\n",
    "        "
   ]
  },
  {
   "cell_type": "code",
   "execution_count": 280,
   "metadata": {},
   "outputs": [],
   "source": [
    "import torch.optim as optim\n",
    "learning_rate = 1e-3\n",
    "mycnn = myCNN()\n",
    "cec = nn.CrossEntropyLoss()\n",
    "optimizer = optim.Adam(mycnn.parameters(),lr = learning_rate)\n",
    "n_epoch = 1\n",
    "n_print = 10\n",
    "n_batch = 64"
   ]
  },
  {
   "cell_type": "code",
   "execution_count": 281,
   "metadata": {},
   "outputs": [],
   "source": [
    "def validate(model,data):\n",
    "  # To get validation accuracy = (correct/total)*100.\n",
    "  total = 0\n",
    "  correct = 0\n",
    "  for i,(images,labels) in enumerate(data):\n",
    "    #images = var(images.cuda())\n",
    "    x = model(images)\n",
    "    value,pred = torch.max(x,1)\n",
    "        #pred = pred.data.cpu()\n",
    "    total += x.size(0)\n",
    "    correct += torch.sum(pred == labels)\n",
    "  return correct*100./total"
   ]
  },
  {
   "cell_type": "code",
   "execution_count": 282,
   "metadata": {},
   "outputs": [
    {
     "name": "stdout",
     "output_type": "stream",
     "text": [
      "Epoch : 1 Batch : 10 Loss : 2.282987594604492 Accuracy : 15.0 %\n",
      "Epoch : 1 Batch : 20 Loss : 2.160853385925293 Accuracy : 19.0 %\n",
      "Epoch : 1 Batch : 30 Loss : 2.0959384441375732 Accuracy : 38.0 %\n",
      "Epoch : 1 Batch : 40 Loss : 1.8996684551239014 Accuracy : 64.0 %\n",
      "Epoch : 1 Batch : 50 Loss : 1.2505484819412231 Accuracy : 67.0 %\n",
      "Epoch : 1 Batch : 60 Loss : 0.9471915364265442 Accuracy : 74.0 %\n",
      "Epoch : 1 Batch : 70 Loss : 0.8029947876930237 Accuracy : 79.0 %\n",
      "Epoch : 1 Batch : 80 Loss : 0.8752391934394836 Accuracy : 79.0 %\n",
      "Epoch : 1 Batch : 90 Loss : 0.8643077611923218 Accuracy : 82.0 %\n",
      "Epoch : 1 Batch : 100 Loss : 0.6359731554985046 Accuracy : 83.0 %\n",
      "Epoch : 1 Batch : 110 Loss : 0.7015008926391602 Accuracy : 83.0 %\n",
      "Epoch : 1 Batch : 120 Loss : 0.4983919858932495 Accuracy : 83.0 %\n",
      "Epoch : 1 Batch : 130 Loss : 0.7775877714157104 Accuracy : 84.0 %\n",
      "Epoch : 1 Batch : 140 Loss : 0.8596277236938477 Accuracy : 83.0 %\n",
      "Epoch : 1 Batch : 150 Loss : 0.7116053104400635 Accuracy : 84.0 %\n",
      "Epoch : 1 Batch : 160 Loss : 0.3204858899116516 Accuracy : 82.0 %\n",
      "Epoch : 1 Batch : 170 Loss : 0.5480990409851074 Accuracy : 84.0 %\n",
      "Epoch : 1 Batch : 180 Loss : 0.6324185132980347 Accuracy : 86.0 %\n",
      "Epoch : 1 Batch : 190 Loss : 0.2874163091182709 Accuracy : 86.0 %\n",
      "Epoch : 1 Batch : 200 Loss : 0.21935540437698364 Accuracy : 86.0 %\n",
      "Epoch : 1 Batch : 210 Loss : 0.33420419692993164 Accuracy : 85.0 %\n",
      "Epoch : 1 Batch : 220 Loss : 0.16435298323631287 Accuracy : 86.0 %\n",
      "Epoch : 1 Batch : 230 Loss : 0.12461212277412415 Accuracy : 86.0 %\n",
      "Epoch : 1 Batch : 240 Loss : 0.4280328154563904 Accuracy : 88.0 %\n",
      "Epoch : 1 Batch : 250 Loss : 0.8884025812149048 Accuracy : 87.0 %\n",
      "Epoch : 1 Batch : 260 Loss : 0.26202020049095154 Accuracy : 88.0 %\n",
      "Epoch : 1 Batch : 270 Loss : 0.20043225586414337 Accuracy : 88.0 %\n",
      "Epoch : 1 Batch : 280 Loss : 0.6470831036567688 Accuracy : 87.0 %\n",
      "Epoch : 1 Batch : 290 Loss : 0.3209211230278015 Accuracy : 88.0 %\n",
      "Epoch : 1 Batch : 300 Loss : 0.47999992966651917 Accuracy : 87.0 %\n",
      "Epoch : 1 Batch : 310 Loss : 0.26273640990257263 Accuracy : 87.0 %\n",
      "Epoch : 1 Batch : 320 Loss : 0.4650645852088928 Accuracy : 86.0 %\n",
      "Epoch : 1 Batch : 330 Loss : 1.382952332496643 Accuracy : 88.0 %\n",
      "Epoch : 1 Batch : 340 Loss : 0.14766308665275574 Accuracy : 88.0 %\n",
      "Epoch : 1 Batch : 350 Loss : 0.6615738272666931 Accuracy : 89.0 %\n",
      "Epoch : 1 Batch : 360 Loss : 0.25952041149139404 Accuracy : 89.0 %\n",
      "Epoch : 1 Batch : 370 Loss : 0.3867740333080292 Accuracy : 89.0 %\n",
      "Epoch : 1 Batch : 380 Loss : 0.265205055475235 Accuracy : 89.0 %\n",
      "Epoch : 1 Batch : 390 Loss : 0.24590402841567993 Accuracy : 88.0 %\n",
      "Epoch : 1 Batch : 400 Loss : 0.29779815673828125 Accuracy : 88.0 %\n",
      "Epoch : 1 Batch : 410 Loss : 0.35182949900627136 Accuracy : 89.0 %\n",
      "Epoch : 1 Batch : 420 Loss : 0.5344575643539429 Accuracy : 88.0 %\n",
      "Epoch : 1 Batch : 430 Loss : 0.5624203681945801 Accuracy : 88.0 %\n",
      "Epoch : 1 Batch : 440 Loss : 0.23873060941696167 Accuracy : 89.0 %\n",
      "Epoch : 1 Batch : 450 Loss : 0.6959002017974854 Accuracy : 89.0 %\n",
      "Epoch : 1 Batch : 460 Loss : 0.6019898056983948 Accuracy : 89.0 %\n",
      "Epoch : 1 Batch : 470 Loss : 0.3933841288089752 Accuracy : 89.0 %\n",
      "Epoch : 1 Batch : 480 Loss : 0.5333511233329773 Accuracy : 89.0 %\n",
      "Epoch : 1 Batch : 490 Loss : 0.2596290409564972 Accuracy : 88.0 %\n",
      "Epoch : 1 Batch : 500 Loss : 0.20853212475776672 Accuracy : 88.0 %\n",
      "Epoch : 1 Batch : 510 Loss : 0.21533015370368958 Accuracy : 90.0 %\n",
      "Epoch : 1 Batch : 520 Loss : 0.17668531835079193 Accuracy : 90.0 %\n",
      "Epoch : 1 Batch : 530 Loss : 0.2953033447265625 Accuracy : 90.0 %\n",
      "Epoch : 1 Batch : 540 Loss : 0.13765154778957367 Accuracy : 89.0 %\n",
      "Epoch : 1 Batch : 550 Loss : 0.24898570775985718 Accuracy : 90.0 %\n",
      "Epoch : 1 Batch : 560 Loss : 0.7847781181335449 Accuracy : 89.0 %\n",
      "Epoch : 1 Batch : 570 Loss : 0.24108554422855377 Accuracy : 90.0 %\n",
      "Epoch : 1 Batch : 580 Loss : 0.5487816333770752 Accuracy : 89.0 %\n",
      "Epoch : 1 Batch : 590 Loss : 0.02176234871149063 Accuracy : 89.0 %\n",
      "Epoch : 1 Batch : 600 Loss : 0.12452276796102524 Accuracy : 90.0 %\n",
      "Epoch : 1 Batch : 610 Loss : 0.1154426783323288 Accuracy : 90.0 %\n",
      "Epoch : 1 Batch : 620 Loss : 0.3898729681968689 Accuracy : 90.0 %\n",
      "Epoch : 1 Batch : 630 Loss : 0.3916691243648529 Accuracy : 90.0 %\n",
      "Epoch : 1 Batch : 640 Loss : 0.1582982838153839 Accuracy : 90.0 %\n",
      "Epoch : 1 Batch : 650 Loss : 0.2554689049720764 Accuracy : 90.0 %\n",
      "Epoch : 1 Batch : 660 Loss : 0.2655838131904602 Accuracy : 89.0 %\n",
      "Epoch : 1 Batch : 670 Loss : 0.27968722581863403 Accuracy : 90.0 %\n",
      "Epoch : 1 Batch : 680 Loss : 0.3597307801246643 Accuracy : 89.0 %\n",
      "Epoch : 1 Batch : 690 Loss : 0.5587278604507446 Accuracy : 90.0 %\n",
      "Epoch : 1 Batch : 700 Loss : 0.20294509828090668 Accuracy : 90.0 %\n",
      "Epoch : 1 Batch : 710 Loss : 0.2013070434331894 Accuracy : 90.0 %\n",
      "Epoch : 1 Batch : 720 Loss : 0.5815079212188721 Accuracy : 91.0 %\n",
      "Epoch : 1 Batch : 730 Loss : 0.18947726488113403 Accuracy : 90.0 %\n",
      "Epoch : 1 Batch : 740 Loss : 0.058705732226371765 Accuracy : 90.0 %\n",
      "Epoch : 1 Batch : 750 Loss : 0.14033113420009613 Accuracy : 90.0 %\n",
      "Epoch : 1 Batch : 760 Loss : 0.9035279750823975 Accuracy : 91.0 %\n",
      "Epoch : 1 Batch : 770 Loss : 0.15221689641475677 Accuracy : 91.0 %\n",
      "Epoch : 1 Batch : 780 Loss : 0.05748429894447327 Accuracy : 90.0 %\n",
      "Epoch : 1 Batch : 790 Loss : 0.8014001846313477 Accuracy : 91.0 %\n",
      "Epoch : 1 Batch : 800 Loss : 0.30430370569229126 Accuracy : 91.0 %\n",
      "Epoch : 1 Batch : 810 Loss : 0.09933365881443024 Accuracy : 91.0 %\n",
      "Epoch : 1 Batch : 820 Loss : 0.2685425877571106 Accuracy : 92.0 %\n",
      "Epoch : 1 Batch : 830 Loss : 0.13834354281425476 Accuracy : 90.0 %\n",
      "Epoch : 1 Batch : 840 Loss : 0.11979681253433228 Accuracy : 90.0 %\n",
      "Epoch : 1 Batch : 850 Loss : 0.04387766122817993 Accuracy : 91.0 %\n",
      "Epoch : 1 Batch : 860 Loss : 0.31570306420326233 Accuracy : 91.0 %\n",
      "Epoch : 1 Batch : 870 Loss : 0.32237502932548523 Accuracy : 92.0 %\n",
      "Epoch : 1 Batch : 880 Loss : 0.557370662689209 Accuracy : 92.0 %\n",
      "Epoch : 1 Batch : 890 Loss : 0.44394853711128235 Accuracy : 92.0 %\n",
      "Epoch : 1 Batch : 900 Loss : 0.3409232497215271 Accuracy : 91.0 %\n",
      "Epoch : 1 Batch : 910 Loss : 0.2725680470466614 Accuracy : 90.0 %\n",
      "Epoch : 1 Batch : 920 Loss : 0.15810951590538025 Accuracy : 91.0 %\n",
      "Epoch : 1 Batch : 930 Loss : 0.05726678669452667 Accuracy : 91.0 %\n",
      "Epoch : 1 Batch : 940 Loss : 0.0923442617058754 Accuracy : 90.0 %\n",
      "Epoch : 1 Batch : 950 Loss : 0.6465768218040466 Accuracy : 92.0 %\n",
      "Epoch : 1 Batch : 960 Loss : 0.09491439163684845 Accuracy : 90.0 %\n",
      "Epoch : 1 Batch : 970 Loss : 0.05565449967980385 Accuracy : 92.0 %\n",
      "Epoch : 1 Batch : 980 Loss : 0.19639408588409424 Accuracy : 91.0 %\n",
      "Epoch : 1 Batch : 990 Loss : 0.6690829992294312 Accuracy : 92.0 %\n",
      "Epoch : 1 Batch : 1000 Loss : 0.04758184775710106 Accuracy : 91.0 %\n"
     ]
    },
    {
     "ename": "KeyboardInterrupt",
     "evalue": "",
     "output_type": "error",
     "traceback": [
      "\u001b[1;31m---------------------------------------------------------------------------\u001b[0m",
      "\u001b[1;31mKeyboardInterrupt\u001b[0m                         Traceback (most recent call last)",
      "\u001b[1;32m<ipython-input-282-64d150d76b87>\u001b[0m in \u001b[0;36m<module>\u001b[1;34m\u001b[0m\n\u001b[0;32m      9\u001b[0m     \u001b[0moptimizer\u001b[0m\u001b[1;33m.\u001b[0m\u001b[0mstep\u001b[0m\u001b[1;33m(\u001b[0m\u001b[1;33m)\u001b[0m\u001b[1;33m\u001b[0m\u001b[1;33m\u001b[0m\u001b[0m\n\u001b[0;32m     10\u001b[0m     \u001b[1;32mif\u001b[0m \u001b[1;33m(\u001b[0m\u001b[0mi\u001b[0m\u001b[1;33m+\u001b[0m\u001b[1;36m1\u001b[0m\u001b[1;33m)\u001b[0m \u001b[1;33m%\u001b[0m \u001b[0mn_print\u001b[0m \u001b[1;33m==\u001b[0m \u001b[1;36m0\u001b[0m\u001b[1;33m:\u001b[0m\u001b[1;33m\u001b[0m\u001b[1;33m\u001b[0m\u001b[0m\n\u001b[1;32m---> 11\u001b[1;33m       \u001b[0maccuracy\u001b[0m \u001b[1;33m=\u001b[0m \u001b[0mfloat\u001b[0m\u001b[1;33m(\u001b[0m\u001b[0mvalidate\u001b[0m\u001b[1;33m(\u001b[0m\u001b[0mmycnn\u001b[0m\u001b[1;33m,\u001b[0m\u001b[0mvalidation_loader\u001b[0m\u001b[1;33m)\u001b[0m\u001b[1;33m)\u001b[0m\u001b[1;33m\u001b[0m\u001b[1;33m\u001b[0m\u001b[0m\n\u001b[0m\u001b[0;32m     12\u001b[0m       \u001b[0mprint\u001b[0m\u001b[1;33m(\u001b[0m\u001b[1;34m'Epoch :'\u001b[0m\u001b[1;33m,\u001b[0m\u001b[0me\u001b[0m\u001b[1;33m+\u001b[0m\u001b[1;36m1\u001b[0m\u001b[1;33m,\u001b[0m\u001b[1;34m'Batch :'\u001b[0m\u001b[1;33m,\u001b[0m\u001b[0mi\u001b[0m\u001b[1;33m+\u001b[0m\u001b[1;36m1\u001b[0m\u001b[1;33m,\u001b[0m\u001b[1;34m'Loss :'\u001b[0m\u001b[1;33m,\u001b[0m\u001b[0mfloat\u001b[0m\u001b[1;33m(\u001b[0m\u001b[0mloss\u001b[0m\u001b[1;33m.\u001b[0m\u001b[0mdata\u001b[0m\u001b[1;33m)\u001b[0m\u001b[1;33m,\u001b[0m\u001b[1;34m'Accuracy :'\u001b[0m\u001b[1;33m,\u001b[0m\u001b[0maccuracy\u001b[0m\u001b[1;33m,\u001b[0m\u001b[1;34m'%'\u001b[0m\u001b[1;33m)\u001b[0m\u001b[1;33m\u001b[0m\u001b[1;33m\u001b[0m\u001b[0m\n",
      "\u001b[1;32m<ipython-input-281-5055ada3a6a6>\u001b[0m in \u001b[0;36mvalidate\u001b[1;34m(model, data)\u001b[0m\n\u001b[0;32m      3\u001b[0m   \u001b[0mtotal\u001b[0m \u001b[1;33m=\u001b[0m \u001b[1;36m0\u001b[0m\u001b[1;33m\u001b[0m\u001b[1;33m\u001b[0m\u001b[0m\n\u001b[0;32m      4\u001b[0m   \u001b[0mcorrect\u001b[0m \u001b[1;33m=\u001b[0m \u001b[1;36m0\u001b[0m\u001b[1;33m\u001b[0m\u001b[1;33m\u001b[0m\u001b[0m\n\u001b[1;32m----> 5\u001b[1;33m   \u001b[1;32mfor\u001b[0m \u001b[0mi\u001b[0m\u001b[1;33m,\u001b[0m\u001b[1;33m(\u001b[0m\u001b[0mimages\u001b[0m\u001b[1;33m,\u001b[0m\u001b[0mlabels\u001b[0m\u001b[1;33m)\u001b[0m \u001b[1;32min\u001b[0m \u001b[0menumerate\u001b[0m\u001b[1;33m(\u001b[0m\u001b[0mdata\u001b[0m\u001b[1;33m)\u001b[0m\u001b[1;33m:\u001b[0m\u001b[1;33m\u001b[0m\u001b[1;33m\u001b[0m\u001b[0m\n\u001b[0m\u001b[0;32m      6\u001b[0m     \u001b[1;31m#images = var(images.cuda())\u001b[0m\u001b[1;33m\u001b[0m\u001b[1;33m\u001b[0m\u001b[1;33m\u001b[0m\u001b[0m\n\u001b[0;32m      7\u001b[0m     \u001b[0mx\u001b[0m \u001b[1;33m=\u001b[0m \u001b[0mmodel\u001b[0m\u001b[1;33m(\u001b[0m\u001b[0mimages\u001b[0m\u001b[1;33m)\u001b[0m\u001b[1;33m\u001b[0m\u001b[1;33m\u001b[0m\u001b[0m\n",
      "\u001b[1;32mc:\\users\\jhrach700\\anaconda3\\envs\\project1scripts\\lib\\site-packages\\torch\\utils\\data\\dataloader.py\u001b[0m in \u001b[0;36m__next__\u001b[1;34m(self)\u001b[0m\n\u001b[0;32m    613\u001b[0m         \u001b[1;32mif\u001b[0m \u001b[0mself\u001b[0m\u001b[1;33m.\u001b[0m\u001b[0mnum_workers\u001b[0m \u001b[1;33m==\u001b[0m \u001b[1;36m0\u001b[0m\u001b[1;33m:\u001b[0m  \u001b[1;31m# same-process loading\u001b[0m\u001b[1;33m\u001b[0m\u001b[1;33m\u001b[0m\u001b[0m\n\u001b[0;32m    614\u001b[0m             \u001b[0mindices\u001b[0m \u001b[1;33m=\u001b[0m \u001b[0mnext\u001b[0m\u001b[1;33m(\u001b[0m\u001b[0mself\u001b[0m\u001b[1;33m.\u001b[0m\u001b[0msample_iter\u001b[0m\u001b[1;33m)\u001b[0m  \u001b[1;31m# may raise StopIteration\u001b[0m\u001b[1;33m\u001b[0m\u001b[1;33m\u001b[0m\u001b[0m\n\u001b[1;32m--> 615\u001b[1;33m             \u001b[0mbatch\u001b[0m \u001b[1;33m=\u001b[0m \u001b[0mself\u001b[0m\u001b[1;33m.\u001b[0m\u001b[0mcollate_fn\u001b[0m\u001b[1;33m(\u001b[0m\u001b[1;33m[\u001b[0m\u001b[0mself\u001b[0m\u001b[1;33m.\u001b[0m\u001b[0mdataset\u001b[0m\u001b[1;33m[\u001b[0m\u001b[0mi\u001b[0m\u001b[1;33m]\u001b[0m \u001b[1;32mfor\u001b[0m \u001b[0mi\u001b[0m \u001b[1;32min\u001b[0m \u001b[0mindices\u001b[0m\u001b[1;33m]\u001b[0m\u001b[1;33m)\u001b[0m\u001b[1;33m\u001b[0m\u001b[1;33m\u001b[0m\u001b[0m\n\u001b[0m\u001b[0;32m    616\u001b[0m             \u001b[1;32mif\u001b[0m \u001b[0mself\u001b[0m\u001b[1;33m.\u001b[0m\u001b[0mpin_memory\u001b[0m\u001b[1;33m:\u001b[0m\u001b[1;33m\u001b[0m\u001b[1;33m\u001b[0m\u001b[0m\n\u001b[0;32m    617\u001b[0m                 \u001b[0mbatch\u001b[0m \u001b[1;33m=\u001b[0m \u001b[0mpin_memory_batch\u001b[0m\u001b[1;33m(\u001b[0m\u001b[0mbatch\u001b[0m\u001b[1;33m)\u001b[0m\u001b[1;33m\u001b[0m\u001b[1;33m\u001b[0m\u001b[0m\n",
      "\u001b[1;32mc:\\users\\jhrach700\\anaconda3\\envs\\project1scripts\\lib\\site-packages\\torch\\utils\\data\\dataloader.py\u001b[0m in \u001b[0;36m<listcomp>\u001b[1;34m(.0)\u001b[0m\n\u001b[0;32m    613\u001b[0m         \u001b[1;32mif\u001b[0m \u001b[0mself\u001b[0m\u001b[1;33m.\u001b[0m\u001b[0mnum_workers\u001b[0m \u001b[1;33m==\u001b[0m \u001b[1;36m0\u001b[0m\u001b[1;33m:\u001b[0m  \u001b[1;31m# same-process loading\u001b[0m\u001b[1;33m\u001b[0m\u001b[1;33m\u001b[0m\u001b[0m\n\u001b[0;32m    614\u001b[0m             \u001b[0mindices\u001b[0m \u001b[1;33m=\u001b[0m \u001b[0mnext\u001b[0m\u001b[1;33m(\u001b[0m\u001b[0mself\u001b[0m\u001b[1;33m.\u001b[0m\u001b[0msample_iter\u001b[0m\u001b[1;33m)\u001b[0m  \u001b[1;31m# may raise StopIteration\u001b[0m\u001b[1;33m\u001b[0m\u001b[1;33m\u001b[0m\u001b[0m\n\u001b[1;32m--> 615\u001b[1;33m             \u001b[0mbatch\u001b[0m \u001b[1;33m=\u001b[0m \u001b[0mself\u001b[0m\u001b[1;33m.\u001b[0m\u001b[0mcollate_fn\u001b[0m\u001b[1;33m(\u001b[0m\u001b[1;33m[\u001b[0m\u001b[0mself\u001b[0m\u001b[1;33m.\u001b[0m\u001b[0mdataset\u001b[0m\u001b[1;33m[\u001b[0m\u001b[0mi\u001b[0m\u001b[1;33m]\u001b[0m \u001b[1;32mfor\u001b[0m \u001b[0mi\u001b[0m \u001b[1;32min\u001b[0m \u001b[0mindices\u001b[0m\u001b[1;33m]\u001b[0m\u001b[1;33m)\u001b[0m\u001b[1;33m\u001b[0m\u001b[1;33m\u001b[0m\u001b[0m\n\u001b[0m\u001b[0;32m    616\u001b[0m             \u001b[1;32mif\u001b[0m \u001b[0mself\u001b[0m\u001b[1;33m.\u001b[0m\u001b[0mpin_memory\u001b[0m\u001b[1;33m:\u001b[0m\u001b[1;33m\u001b[0m\u001b[1;33m\u001b[0m\u001b[0m\n\u001b[0;32m    617\u001b[0m                 \u001b[0mbatch\u001b[0m \u001b[1;33m=\u001b[0m \u001b[0mpin_memory_batch\u001b[0m\u001b[1;33m(\u001b[0m\u001b[0mbatch\u001b[0m\u001b[1;33m)\u001b[0m\u001b[1;33m\u001b[0m\u001b[1;33m\u001b[0m\u001b[0m\n",
      "\u001b[1;32m<ipython-input-274-bcbe518398ba>\u001b[0m in \u001b[0;36m__getitem__\u001b[1;34m(self, index)\u001b[0m\n\u001b[0;32m     23\u001b[0m         \u001b[0mimg_as_np\u001b[0m \u001b[1;33m=\u001b[0m \u001b[0mnp\u001b[0m\u001b[1;33m.\u001b[0m\u001b[0masarray\u001b[0m\u001b[1;33m(\u001b[0m\u001b[0mimg\u001b[0m\u001b[1;33m)\u001b[0m\u001b[1;33m.\u001b[0m\u001b[0mreshape\u001b[0m\u001b[1;33m(\u001b[0m\u001b[1;36m28\u001b[0m\u001b[1;33m,\u001b[0m \u001b[1;36m28\u001b[0m\u001b[1;33m)\u001b[0m\u001b[1;33m.\u001b[0m\u001b[0mastype\u001b[0m\u001b[1;33m(\u001b[0m\u001b[1;34m'uint8'\u001b[0m\u001b[1;33m)\u001b[0m\u001b[1;33m\u001b[0m\u001b[1;33m\u001b[0m\u001b[0m\n\u001b[0;32m     24\u001b[0m         \u001b[0mimg_as_img\u001b[0m \u001b[1;33m=\u001b[0m \u001b[0mImage\u001b[0m\u001b[1;33m.\u001b[0m\u001b[0mfromarray\u001b[0m\u001b[1;33m(\u001b[0m\u001b[0mimg_as_np\u001b[0m\u001b[1;33m)\u001b[0m\u001b[1;33m\u001b[0m\u001b[1;33m\u001b[0m\u001b[0m\n\u001b[1;32m---> 25\u001b[1;33m         \u001b[0mimg_as_img\u001b[0m \u001b[1;33m=\u001b[0m \u001b[0mimg_as_img\u001b[0m\u001b[1;33m.\u001b[0m\u001b[0mconvert\u001b[0m\u001b[1;33m(\u001b[0m\u001b[1;34m'L'\u001b[0m\u001b[1;33m)\u001b[0m\u001b[1;33m\u001b[0m\u001b[1;33m\u001b[0m\u001b[0m\n\u001b[0m\u001b[0;32m     26\u001b[0m         \u001b[1;31m# Transform image to tensor\u001b[0m\u001b[1;33m\u001b[0m\u001b[1;33m\u001b[0m\u001b[1;33m\u001b[0m\u001b[0m\n\u001b[0;32m     27\u001b[0m         \u001b[1;32mif\u001b[0m \u001b[0mself\u001b[0m\u001b[1;33m.\u001b[0m\u001b[0mtransform\u001b[0m \u001b[1;32mis\u001b[0m \u001b[1;32mnot\u001b[0m \u001b[1;32mNone\u001b[0m\u001b[1;33m:\u001b[0m\u001b[1;33m\u001b[0m\u001b[1;33m\u001b[0m\u001b[0m\n",
      "\u001b[1;32mc:\\users\\jhrach700\\anaconda3\\envs\\project1scripts\\lib\\site-packages\\PIL\\Image.py\u001b[0m in \u001b[0;36mconvert\u001b[1;34m(self, mode, matrix, dither, palette, colors)\u001b[0m\n\u001b[0;32m    937\u001b[0m                 \u001b[0mmode\u001b[0m \u001b[1;33m=\u001b[0m \u001b[1;34m\"RGB\"\u001b[0m\u001b[1;33m\u001b[0m\u001b[1;33m\u001b[0m\u001b[0m\n\u001b[0;32m    938\u001b[0m         \u001b[1;32mif\u001b[0m \u001b[1;32mnot\u001b[0m \u001b[0mmode\u001b[0m \u001b[1;32mor\u001b[0m \u001b[1;33m(\u001b[0m\u001b[0mmode\u001b[0m \u001b[1;33m==\u001b[0m \u001b[0mself\u001b[0m\u001b[1;33m.\u001b[0m\u001b[0mmode\u001b[0m \u001b[1;32mand\u001b[0m \u001b[1;32mnot\u001b[0m \u001b[0mmatrix\u001b[0m\u001b[1;33m)\u001b[0m\u001b[1;33m:\u001b[0m\u001b[1;33m\u001b[0m\u001b[1;33m\u001b[0m\u001b[0m\n\u001b[1;32m--> 939\u001b[1;33m             \u001b[1;32mreturn\u001b[0m \u001b[0mself\u001b[0m\u001b[1;33m.\u001b[0m\u001b[0mcopy\u001b[0m\u001b[1;33m(\u001b[0m\u001b[1;33m)\u001b[0m\u001b[1;33m\u001b[0m\u001b[1;33m\u001b[0m\u001b[0m\n\u001b[0m\u001b[0;32m    940\u001b[0m \u001b[1;33m\u001b[0m\u001b[0m\n\u001b[0;32m    941\u001b[0m         \u001b[0mhas_transparency\u001b[0m \u001b[1;33m=\u001b[0m \u001b[0mself\u001b[0m\u001b[1;33m.\u001b[0m\u001b[0minfo\u001b[0m\u001b[1;33m.\u001b[0m\u001b[0mget\u001b[0m\u001b[1;33m(\u001b[0m\u001b[1;34m\"transparency\"\u001b[0m\u001b[1;33m)\u001b[0m \u001b[1;32mis\u001b[0m \u001b[1;32mnot\u001b[0m \u001b[1;32mNone\u001b[0m\u001b[1;33m\u001b[0m\u001b[1;33m\u001b[0m\u001b[0m\n",
      "\u001b[1;32mc:\\users\\jhrach700\\anaconda3\\envs\\project1scripts\\lib\\site-packages\\PIL\\Image.py\u001b[0m in \u001b[0;36mcopy\u001b[1;34m(self)\u001b[0m\n\u001b[0;32m   1140\u001b[0m         \"\"\"\n\u001b[0;32m   1141\u001b[0m         \u001b[0mself\u001b[0m\u001b[1;33m.\u001b[0m\u001b[0mload\u001b[0m\u001b[1;33m(\u001b[0m\u001b[1;33m)\u001b[0m\u001b[1;33m\u001b[0m\u001b[1;33m\u001b[0m\u001b[0m\n\u001b[1;32m-> 1142\u001b[1;33m         \u001b[1;32mreturn\u001b[0m \u001b[0mself\u001b[0m\u001b[1;33m.\u001b[0m\u001b[0m_new\u001b[0m\u001b[1;33m(\u001b[0m\u001b[0mself\u001b[0m\u001b[1;33m.\u001b[0m\u001b[0mim\u001b[0m\u001b[1;33m.\u001b[0m\u001b[0mcopy\u001b[0m\u001b[1;33m(\u001b[0m\u001b[1;33m)\u001b[0m\u001b[1;33m)\u001b[0m\u001b[1;33m\u001b[0m\u001b[1;33m\u001b[0m\u001b[0m\n\u001b[0m\u001b[0;32m   1143\u001b[0m \u001b[1;33m\u001b[0m\u001b[0m\n\u001b[0;32m   1144\u001b[0m     \u001b[0m__copy__\u001b[0m \u001b[1;33m=\u001b[0m \u001b[0mcopy\u001b[0m\u001b[1;33m\u001b[0m\u001b[1;33m\u001b[0m\u001b[0m\n",
      "\u001b[1;31mKeyboardInterrupt\u001b[0m: "
     ]
    }
   ],
   "source": [
    "for e in range(n_epoch):\n",
    "  for i,(images,labels) in enumerate(train_loader):\n",
    "    #images = var(images.cuda())\n",
    "    #labels = var(labels.cuda())\n",
    "    optimizer.zero_grad()\n",
    "    pred = mycnn(images)\n",
    "    loss = cec(pred,labels)\n",
    "    loss.backward()\n",
    "    optimizer.step()\n",
    "    if (i+1) % n_print == 0:\n",
    "      accuracy = float(validate(mycnn,validation_loader))\n",
    "      print('Epoch :',e+1,'Batch :',i+1,'Loss :',float(loss.data),'Accuracy :',accuracy,'%')"
   ]
  },
  {
   "cell_type": "code",
   "execution_count": null,
   "metadata": {},
   "outputs": [],
   "source": []
  }
 ],
 "metadata": {
  "kernelspec": {
   "display_name": "Python 3",
   "language": "python",
   "name": "python3"
  },
  "language_info": {
   "codemirror_mode": {
    "name": "ipython",
    "version": 3
   },
   "file_extension": ".py",
   "mimetype": "text/x-python",
   "name": "python",
   "nbconvert_exporter": "python",
   "pygments_lexer": "ipython3",
   "version": "3.6.9"
  }
 },
 "nbformat": 4,
 "nbformat_minor": 2
}
